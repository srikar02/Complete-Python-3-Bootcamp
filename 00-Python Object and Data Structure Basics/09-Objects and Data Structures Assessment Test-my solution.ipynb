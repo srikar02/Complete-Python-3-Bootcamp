{
	"cells": [
		{
			"metadata": {},
			"cell_type": "markdown",
			"source": "___\n\n<a href='https://www.udemy.com/user/joseportilla/'><img src='../Pierian_Data_Logo.png'/></a>\n___\n<center><em>Content Copyright by Pierian Data</em></center>\n# Objects and Data Structures Assessment Test"
		},
		{
			"metadata": {
				"collapsed": true
			},
			"cell_type": "markdown",
			"source": "## Test your knowledge. \n\n** Answer the following questions **"
		},
		{
			"metadata": {
				"collapsed": true
			},
			"cell_type": "markdown",
			"source": "Write (or just say out loud to yourself) a brief description of all the following Object Types and Data Structures we've learned about. You can edit the cell below by double clicking on it. Really this is just to test if you know the difference between these, so feel free to just think about it, since your answers are self-graded."
		},
		{
			"metadata": {},
			"cell_type": "markdown",
			"source": "Double Click HERE to edit this markdown cell and write answers.\n\nNumbers: Integers, floating point. Can perform different arithmetic operations. \n\nStrings: stream of characters, comes with builtin methods for slicing, reversing etc\n\nLists: ordered datastructure that can hold any type\n\nTuples: Immutable key value pair\n\nDictionaries: unordered mutable key value pair\n"
		},
		{
			"metadata": {},
			"cell_type": "markdown",
			"source": "## Numbers\n\nWrite an equation that uses multiplication, division, an exponent, addition, and subtraction that is equal to 100.25.\n\nHint: This is just to test your memory of the basic arithmetic commands, work backwards from 100.25"
		},
		{
			"metadata": {
				"trusted": true
			},
			"cell_type": "code",
			"source": "((55-5) * 2) + ((5 ** 2)/100)",
			"execution_count": 8,
			"outputs": [
				{
					"data": {
						"text/plain": "100.25"
					},
					"execution_count": 8,
					"metadata": {},
					"output_type": "execute_result"
				}
			]
		},
		{
			"metadata": {},
			"cell_type": "markdown",
			"source": "Answer these 3 questions without typing code. Then type code to check your answer.\n\n    What is the value of the expression 4 * (6 + 5)\n    \n    What is the value of the expression 4 * 6 + 5 \n    \n    What is the value of the expression 4 + 6 * 5 "
		},
		{
			"metadata": {
				"trusted": true
			},
			"cell_type": "code",
			"source": "4 + 6 * 5",
			"execution_count": 15,
			"outputs": [
				{
					"output_type": "execute_result",
					"execution_count": 15,
					"data": {
						"text/plain": "34"
					},
					"metadata": {}
				}
			]
		},
		{
			"metadata": {},
			"cell_type": "markdown",
			"source": "What is the *type* of the result of the expression 3 + 1.5 + 4?<br><br> Floating point"
		},
		{
			"metadata": {},
			"cell_type": "markdown",
			"source": "What would you use to find a number’s square root, as well as its square? "
		},
		{
			"metadata": {
				"collapsed": true,
				"trusted": true
			},
			"cell_type": "code",
			"source": "# Square root:\n",
			"execution_count": null,
			"outputs": []
		},
		{
			"metadata": {
				"trusted": true
			},
			"cell_type": "code",
			"source": "# Square: **\nmath.sqrt(18)",
			"execution_count": 17,
			"outputs": [
				{
					"output_type": "execute_result",
					"execution_count": 17,
					"data": {
						"text/plain": "4.242640687119285"
					},
					"metadata": {}
				}
			]
		},
		{
			"metadata": {},
			"cell_type": "markdown",
			"source": "## Strings"
		},
		{
			"metadata": {},
			"cell_type": "markdown",
			"source": "Given the string 'hello' give an index command that returns 'e'. Enter your code in the cell below:"
		},
		{
			"metadata": {
				"trusted": true
			},
			"cell_type": "code",
			"source": "s = 'hello'\n# Print out 'e' using indexing\n\ns[1]",
			"execution_count": 18,
			"outputs": [
				{
					"output_type": "execute_result",
					"execution_count": 18,
					"data": {
						"text/plain": "'e'"
					},
					"metadata": {}
				}
			]
		},
		{
			"metadata": {},
			"cell_type": "markdown",
			"source": "Reverse the string 'hello' using slicing:"
		},
		{
			"metadata": {
				"trusted": true
			},
			"cell_type": "code",
			"source": "s ='hello'\n# Reverse the string using slicing\n\ns[::-1]",
			"execution_count": 20,
			"outputs": [
				{
					"output_type": "execute_result",
					"execution_count": 20,
					"data": {
						"text/plain": "'olleh'"
					},
					"metadata": {}
				}
			]
		},
		{
			"metadata": {},
			"cell_type": "markdown",
			"source": "Given the string hello, give two methods of producing the letter 'o' using indexing."
		},
		{
			"metadata": {
				"trusted": true
			},
			"cell_type": "code",
			"source": "s ='hello'\n# Print out the 'o'\n\n# Method 1:\n\ns[4]",
			"execution_count": 21,
			"outputs": [
				{
					"output_type": "execute_result",
					"execution_count": 21,
					"data": {
						"text/plain": "'o'"
					},
					"metadata": {}
				}
			]
		},
		{
			"metadata": {
				"trusted": true
			},
			"cell_type": "code",
			"source": "# Method 2:\n\ns[-1]",
			"execution_count": 24,
			"outputs": [
				{
					"output_type": "execute_result",
					"execution_count": 24,
					"data": {
						"text/plain": "'o'"
					},
					"metadata": {}
				}
			]
		},
		{
			"metadata": {},
			"cell_type": "markdown",
			"source": "## Lists"
		},
		{
			"metadata": {},
			"cell_type": "markdown",
			"source": "Build this list [0,0,0] two separate ways."
		},
		{
			"metadata": {
				"trusted": true
			},
			"cell_type": "code",
			"source": "# Method 1:\nlist1 = [0,0,0]",
			"execution_count": 26,
			"outputs": []
		},
		{
			"metadata": {
				"collapsed": true,
				"trusted": true
			},
			"cell_type": "code",
			"source": "# Method 2:\n",
			"execution_count": null,
			"outputs": []
		},
		{
			"metadata": {},
			"cell_type": "markdown",
			"source": "Reassign 'hello' in this nested list to say 'goodbye' instead:"
		},
		{
			"metadata": {
				"trusted": true
			},
			"cell_type": "code",
			"source": "list3 = [1,2,[3,4,'hello']]\n\nlist3[2][2]='goodbye'\nlist3",
			"execution_count": 30,
			"outputs": [
				{
					"output_type": "execute_result",
					"execution_count": 30,
					"data": {
						"text/plain": "[1, 2, [3, 4, 'goodbye']]"
					},
					"metadata": {}
				}
			]
		},
		{
			"metadata": {},
			"cell_type": "markdown",
			"source": "Sort the list below:"
		},
		{
			"metadata": {
				"trusted": true
			},
			"cell_type": "code",
			"source": "list4 = [5,3,4,6,1]\nlist4.sort()\nlist4",
			"execution_count": 39,
			"outputs": [
				{
					"output_type": "execute_result",
					"execution_count": 39,
					"data": {
						"text/plain": "[1, 3, 4, 5, 6]"
					},
					"metadata": {}
				}
			]
		},
		{
			"metadata": {},
			"cell_type": "markdown",
			"source": "## Dictionaries"
		},
		{
			"metadata": {},
			"cell_type": "markdown",
			"source": "Using keys and indexing, grab the 'hello' from the following dictionaries:"
		},
		{
			"metadata": {
				"trusted": true
			},
			"cell_type": "code",
			"source": "d = {'simple_key':'hello'}\n# Grab 'hello'\nd['simple_key']",
			"execution_count": 40,
			"outputs": [
				{
					"output_type": "execute_result",
					"execution_count": 40,
					"data": {
						"text/plain": "'hello'"
					},
					"metadata": {}
				}
			]
		},
		{
			"metadata": {
				"trusted": true
			},
			"cell_type": "code",
			"source": "d = {'k1':{'k2':'hello'}}\n# Grab 'hello'\nd['k1']['k2']",
			"execution_count": 42,
			"outputs": [
				{
					"output_type": "execute_result",
					"execution_count": 42,
					"data": {
						"text/plain": "'hello'"
					},
					"metadata": {}
				}
			]
		},
		{
			"metadata": {
				"trusted": true
			},
			"cell_type": "code",
			"source": "# Getting a little tricker\nd = {'k1':[{'nest_key':['this is deep',['hello']]}]}\n\n#Grab hello\nd['k1'][0]['nest_key'][1][0]",
			"execution_count": 47,
			"outputs": [
				{
					"output_type": "execute_result",
					"execution_count": 47,
					"data": {
						"text/plain": "'hello'"
					},
					"metadata": {}
				}
			]
		},
		{
			"metadata": {
				"trusted": true
			},
			"cell_type": "code",
			"source": "# This will be hard and annoying!\nd = {'k1':[1,2,{'k2':['this is tricky',{'tough':[1,2,['hello']]}]}]}\n\nd['k1'][2]['k2'][1]['tough'][2][0]",
			"execution_count": 55,
			"outputs": [
				{
					"output_type": "execute_result",
					"execution_count": 55,
					"data": {
						"text/plain": "'hello'"
					},
					"metadata": {}
				}
			]
		},
		{
			"metadata": {},
			"cell_type": "markdown",
			"source": "Can you sort a dictionary? Why or why not?<br><br> Cannot, no attribute sort for dict object"
		},
		{
			"metadata": {},
			"cell_type": "markdown",
			"source": "## Tuples"
		},
		{
			"metadata": {},
			"cell_type": "markdown",
			"source": "What is the major difference between tuples and lists?<br><br>\nLists are mutable, tuples are immutable"
		},
		{
			"metadata": {},
			"cell_type": "markdown",
			"source": "How do you create a tuple?<br><br>\nBy declaring in round brackets\ntuple1 = ('t1',t2')"
		},
		{
			"metadata": {},
			"cell_type": "markdown",
			"source": "## Sets "
		},
		{
			"metadata": {},
			"cell_type": "markdown",
			"source": "What is unique about a set?<br><br>\nSet does not allow duplicates"
		},
		{
			"metadata": {},
			"cell_type": "markdown",
			"source": "Use a set to find the unique values of the list below:"
		},
		{
			"metadata": {
				"trusted": true
			},
			"cell_type": "code",
			"source": "list5 = [1,2,2,33,4,4,11,22,3,3,2]\n\nset1 = set(list5)\nset1\n",
			"execution_count": 56,
			"outputs": [
				{
					"output_type": "execute_result",
					"execution_count": 56,
					"data": {
						"text/plain": "{1, 2, 3, 4, 11, 22, 33}"
					},
					"metadata": {}
				}
			]
		},
		{
			"metadata": {},
			"cell_type": "markdown",
			"source": "## Booleans"
		},
		{
			"metadata": {},
			"cell_type": "markdown",
			"source": "For the following quiz questions, we will get a preview of comparison operators. In the table below, a=3 and b=4.\n\n<table class=\"table table-bordered\">\n<tr>\n<th style=\"width:10%\">Operator</th><th style=\"width:45%\">Description</th><th>Example</th>\n</tr>\n<tr>\n<td>==</td>\n<td>If the values of two operands are equal, then the condition becomes true.</td>\n<td> (a == b) is not true.</td>\n</tr>\n<tr>\n<td>!=</td>\n<td>If values of two operands are not equal, then condition becomes true.</td>\n<td> (a != b) is true.</td>\n</tr>\n<tr>\n<td>&gt;</td>\n<td>If the value of left operand is greater than the value of right operand, then condition becomes true.</td>\n<td> (a &gt; b) is not true.</td>\n</tr>\n<tr>\n<td>&lt;</td>\n<td>If the value of left operand is less than the value of right operand, then condition becomes true.</td>\n<td> (a &lt; b) is true.</td>\n</tr>\n<tr>\n<td>&gt;=</td>\n<td>If the value of left operand is greater than or equal to the value of right operand, then condition becomes true.</td>\n<td> (a &gt;= b) is not true. </td>\n</tr>\n<tr>\n<td>&lt;=</td>\n<td>If the value of left operand is less than or equal to the value of right operand, then condition becomes true.</td>\n<td> (a &lt;= b) is true. </td>\n</tr>\n</table>"
		},
		{
			"metadata": {},
			"cell_type": "markdown",
			"source": "What will be the resulting Boolean of the following pieces of code (answer fist then check by typing it in!)"
		},
		{
			"metadata": {
				"trusted": true
			},
			"cell_type": "code",
			"source": "# Answer before running cell\n2 > 3",
			"execution_count": 57,
			"outputs": [
				{
					"output_type": "execute_result",
					"execution_count": 57,
					"data": {
						"text/plain": "False"
					},
					"metadata": {}
				}
			]
		},
		{
			"metadata": {
				"trusted": true
			},
			"cell_type": "code",
			"source": "# Answer before running cell\n3 <= 2",
			"execution_count": 58,
			"outputs": [
				{
					"output_type": "execute_result",
					"execution_count": 58,
					"data": {
						"text/plain": "False"
					},
					"metadata": {}
				}
			]
		},
		{
			"metadata": {
				"trusted": true
			},
			"cell_type": "code",
			"source": "# Answer before running cell\n3 == 2.0",
			"execution_count": 59,
			"outputs": [
				{
					"output_type": "execute_result",
					"execution_count": 59,
					"data": {
						"text/plain": "False"
					},
					"metadata": {}
				}
			]
		},
		{
			"metadata": {
				"trusted": true
			},
			"cell_type": "code",
			"source": "# Answer before running cell\n3.0 == 3",
			"execution_count": 60,
			"outputs": [
				{
					"output_type": "execute_result",
					"execution_count": 60,
					"data": {
						"text/plain": "True"
					},
					"metadata": {}
				}
			]
		},
		{
			"metadata": {
				"trusted": true
			},
			"cell_type": "code",
			"source": "# Answer before running cell\n4**0.5 != 2",
			"execution_count": 61,
			"outputs": [
				{
					"output_type": "execute_result",
					"execution_count": 61,
					"data": {
						"text/plain": "False"
					},
					"metadata": {}
				}
			]
		},
		{
			"metadata": {},
			"cell_type": "markdown",
			"source": "Final Question: What is the boolean output of the cell block below?"
		},
		{
			"metadata": {
				"trusted": true
			},
			"cell_type": "code",
			"source": "# two nested lists\nl_one = [1,2,[3,4]]\nl_two = [1,2,{'k1':4}]\n\n# True or False?\nl_one[2][0] >= l_two[2]['k1']",
			"execution_count": 62,
			"outputs": [
				{
					"output_type": "execute_result",
					"execution_count": 62,
					"data": {
						"text/plain": "False"
					},
					"metadata": {}
				}
			]
		},
		{
			"metadata": {},
			"cell_type": "markdown",
			"source": "## Great Job on your first assessment! "
		}
	],
	"metadata": {
		"anaconda-cloud": {},
		"kernelspec": {
			"display_name": "Python 3",
			"language": "python",
			"name": "python3"
		},
		"language_info": {
			"codemirror_mode": {
				"name": "ipython",
				"version": 3
			},
			"file_extension": ".py",
			"mimetype": "text/x-python",
			"name": "python",
			"nbconvert_exporter": "python",
			"pygments_lexer": "ipython3",
			"version": "3.6.10"
		}
	},
	"nbformat": 4,
	"nbformat_minor": 1
}